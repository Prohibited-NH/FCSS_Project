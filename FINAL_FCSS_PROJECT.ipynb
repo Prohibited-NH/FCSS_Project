{
 "cells": [
  {
   "cell_type": "code",
   "execution_count": 249,
   "id": "90afc266-13df-4614-84e5-c51bca3bfc0c",
   "metadata": {},
   "outputs": [],
   "source": [
    "################################################################################\r\n",
    "# Author 1:             Naseer Haider\r\n",
    "# Author 2:             Wahid Ahmed\r\n",
    "# Author 3:             Muhammad Danish Kizahakke \n",
    "# Author 4:              Muhammad Usama Rahim_\n",
    "# File:                 FCSS_Project.ipynb\r\n",
    "##################################################################################\r\n"
   ]
  },
  {
   "cell_type": "markdown",
   "id": "ae1f69a5-ccf7-44ec-9ae9-e2fc27e3ff82",
   "metadata": {},
   "source": [
    "<h1>Part 1: Downloading the Required Datasets</h1>"
   ]
  },
  {
   "cell_type": "markdown",
   "id": "76bb988c-9a55-4fc0-bc1d-697296dc8c6d",
   "metadata": {},
   "source": [
    "#### - This part involves importing necessary packages and downloading the required datasets.\n",
    "#### - We use `kagglehub` to download the Book-Crossing dataset from Kaggle."
   ]
  },
  {
   "cell_type": "code",
   "execution_count": 252,
   "id": "e73143e9-548f-4520-9fb3-0d2d255346fc",
   "metadata": {},
   "outputs": [
    {
     "name": "stdout",
     "output_type": "stream",
     "text": [
      "Downloading Book-Crossing dataset...\n",
      "Path to Book-Crossing dataset files: C:\\Users\\User\\.cache\\kagglehub\\datasets\\somnambwl\\bookcrossing-dataset\\versions\\1\n",
      "Datasets downloaded successfully.\n"
     ]
    }
   ],
   "source": [
    "# Importing packages\n",
    "import kagglehub\n",
    "import pandas as pd\n",
    "\n",
    "# Function to download datasets\n",
    "def download_datasets():\n",
    "    print(\"Downloading Book-Crossing dataset...\")\n",
    "    # Downloading Book-Crossing dataset from Kaggle\n",
    "    book_crossing_path = kagglehub.dataset_download(\"somnambwl/bookcrossing-dataset\")\n",
    "    print(\"Path to Book-Crossing dataset files:\", book_crossing_path)\n",
    "\n",
    "    print(\"Datasets downloaded successfully.\")\n",
    "\n",
    "# Download the datasets\n",
    "download_datasets()\n",
    "\n"
   ]
  },
  {
   "cell_type": "markdown",
   "id": "e47076ea-60d0-4350-bdf0-3a61ee3d21fe",
   "metadata": {},
   "source": [
    "# Part 2: Filtering the Datasets"
   ]
  },
  {
   "cell_type": "markdown",
   "id": "106d1fba-84b3-48a5-9b63-a9e302b975fd",
   "metadata": {},
   "source": [
    "#### - This part filters the Book-Crossing dataset to keep only books rated by at least 50 users.\n",
    "#### - It also filters users who have rated at least 50 books.\n",
    "#### - The goal is to have a more focused dataset with sufficient data for analysis.\n"
   ]
  },
  {
   "cell_type": "code",
   "execution_count": 255,
   "id": "a98af1dd-decc-45ac-9268-75872b157310",
   "metadata": {},
   "outputs": [
    {
     "name": "stdout",
     "output_type": "stream",
     "text": [
      "Loading Book-Crossing datasets...\n"
     ]
    },
    {
     "name": "stderr",
     "output_type": "stream",
     "text": [
      "C:\\Users\\User\\AppData\\Local\\Temp\\ipykernel_26376\\4227661504.py:10: DtypeWarning: Columns (0) have mixed types. Specify dtype option on import or set low_memory=False.\n",
      "  users = pd.read_csv(users_file_path, sep=';', encoding='latin-1', on_bad_lines='skip')\n"
     ]
    },
    {
     "name": "stdout",
     "output_type": "stream",
     "text": [
      "         ISBN                                              Title  \\\n",
      "0  0195153448                                Classical Mythology   \n",
      "1  0002005018                                       Clara Callan   \n",
      "2  0060973129                               Decision in Normandy   \n",
      "3  0374157065  Flu: The Story of the Great Influenza Pandemic...   \n",
      "4  0393045218                             The Mummies of Urumchi   \n",
      "\n",
      "                 Author  Year                Publisher  \n",
      "0    Mark P. O. Morford  2002  Oxford University Press  \n",
      "1  Richard Bruce Wright  2001    HarperFlamingo Canada  \n",
      "2          Carlo D'Este  1991          HarperPerennial  \n",
      "3      Gina Bari Kolata  1999     Farrar Straus Giroux  \n",
      "4       E. J. W. Barber  1999   W. W. Norton & Company  \n",
      "Index(['ISBN', 'Title', 'Author', 'Year', 'Publisher'], dtype='object')\n",
      "   User-ID        ISBN  Rating\n",
      "0   276725  034545104X       0\n",
      "1   276726  0155061224       5\n",
      "2   276727  0446520802       0\n",
      "3   276729  052165615X       3\n",
      "4   276729  0521795028       6\n",
      "Index(['User-ID', 'ISBN', 'Rating'], dtype='object')\n",
      "  User-ID  Age\n",
      "0       1  NaN\n",
      "1       2   18\n",
      "2       3  NaN\n",
      "3       4   17\n",
      "4       5  NaN\n",
      "Index(['User-ID', 'Age'], dtype='object')\n",
      "Merging Ratings and Books datasets...\n",
      "Filtering books with at least 50 ratings...\n",
      "Filtering users who have rated at least 50 books...\n",
      "Filtered Book-Crossing dataset saved to filtered_book_crossing.csv\n"
     ]
    }
   ],
   "source": [
    "# Define file paths for the Book-Crossing datasets\n",
    "books_file_path = \"Books.csv\"  \n",
    "ratings_file_path = \"Ratings.csv\"\n",
    "users_file_path = \"Users.csv\"  \n",
    "\n",
    "# Load the datasets\n",
    "print(\"Loading Book-Crossing datasets...\")\n",
    "books = pd.read_csv(books_file_path, sep=';', encoding='latin-1', on_bad_lines='skip')\n",
    "ratings = pd.read_csv(ratings_file_path, sep=';', encoding='latin-1', on_bad_lines='skip')\n",
    "users = pd.read_csv(users_file_path, sep=';', encoding='latin-1', on_bad_lines='skip')\n",
    "\n",
    "# Preview of data basic data & columns\n",
    "print(books.head())\n",
    "print(books.columns)\n",
    "print(ratings.head())\n",
    "print(ratings.columns)\n",
    "print(users.head())\n",
    "print(users.columns)\n",
    "\n",
    "# Merge Ratings with Books\n",
    "print(\"Merging Ratings and Books datasets...\")\n",
    "merged_data = pd.merge(ratings, books, on=\"ISBN\", how=\"inner\")\n",
    "\n",
    "# Filter books with at least 50 ratings\n",
    "print(\"Filtering books with at least 50 ratings...\")\n",
    "# Count the number of ratings for each book (ISBN)\n",
    "book_counts = merged_data['ISBN'].value_counts()\n",
    "# Keep books that have been rated at least 50 times\n",
    "filtered_books = book_counts[book_counts >= 50].index\n",
    "filtered_data = merged_data[merged_data['ISBN'].isin(filtered_books)]\n",
    "\n",
    "# Filter users who have rated at least 50 books\n",
    "print(\"Filtering users who have rated at least 50 books...\")\n",
    "# Count the number of books rated by each user (User-ID)\n",
    "user_counts = filtered_data['User-ID'].value_counts()\n",
    "# Keep users who have rated at least 50 books\n",
    "filtered_users = user_counts[user_counts >= 50].index\n",
    "filtered_data = filtered_data[filtered_data['User-ID'].isin(filtered_users)]\n",
    "\n",
    "# Save the filtered dataset\n",
    "output_path = \"filtered_book_crossing.csv\"\n",
    "filtered_data.to_csv(output_path, index=False)\n",
    "print(f\"Filtered Book-Crossing dataset saved to {output_path}\")\n"
   ]
  },
  {
   "cell_type": "markdown",
   "id": "bf6567ec-7853-4f21-b511-19bce193a6f6",
   "metadata": {},
   "source": [
    "# Part 3: Verify and Inspect the Filtered Datasets"
   ]
  },
  {
   "cell_type": "markdown",
   "id": "c45ac47e-3d09-44d5-a7f2-cb8be0fb7079",
   "metadata": {},
   "source": [
    "#### - This part verifies the structure of the filtered dataset.\n",
    "#### - It ensures the filtering process was successful by displaying the dataset info and a few sample rows.\n"
   ]
  },
  {
   "cell_type": "code",
   "execution_count": 258,
   "id": "051f2525-68e3-4344-a382-6dcecc03e62e",
   "metadata": {},
   "outputs": [
    {
     "name": "stdout",
     "output_type": "stream",
     "text": [
      "Loading filtered datasets...\n",
      "\n",
      "Filtered Book-Crossing Dataset Info:\n",
      "<class 'pandas.core.frame.DataFrame'>\n",
      "RangeIndex: 95690 entries, 0 to 95689\n",
      "Data columns (total 7 columns):\n",
      " #   Column     Non-Null Count  Dtype \n",
      "---  ------     --------------  ----- \n",
      " 0   User-ID    95690 non-null  int64 \n",
      " 1   ISBN       95690 non-null  object\n",
      " 2   Rating     95690 non-null  int64 \n",
      " 3   Title      95690 non-null  object\n",
      " 4   Author     95690 non-null  object\n",
      " 5   Year       95690 non-null  int64 \n",
      " 6   Publisher  95690 non-null  object\n",
      "dtypes: int64(3), object(4)\n",
      "memory usage: 5.1+ MB\n",
      "None\n",
      "Sample Rows:\n",
      "   User-ID        ISBN  Rating  \\\n",
      "0   277427  002542730X      10   \n",
      "1   277427  006092988X       0   \n",
      "2   277427  0060930535       0   \n",
      "3   277427  0060932139       0   \n",
      "4   277427  0060934417       0   \n",
      "\n",
      "                                               Title              Author  \\\n",
      "0  Politically Correct Bedtime Stories: Modern Ta...   James Finn Garner   \n",
      "1                           A Tree Grows in Brooklyn         Betty Smith   \n",
      "2                      The Poisonwood Bible: A Novel  Barbara Kingsolver   \n",
      "3  The Unbearable Lightness of Being : A Novel (P...       Milan Kundera   \n",
      "4                                 Bel Canto: A Novel        Ann Patchett   \n",
      "\n",
      "   Year              Publisher  \n",
      "0  1994  John Wiley & Sons Inc  \n",
      "1  1998              Perennial  \n",
      "2  1999              Perennial  \n",
      "3  1999              Perennial  \n",
      "4  2002              Perennial  \n"
     ]
    }
   ],
   "source": [
    "# File paths for the filtered datasets\n",
    "book_crossing_path = \"filtered_book_crossing.csv\"  # Replace with actual path\n",
    "\n",
    "# Load the filtered datasets\n",
    "print(\"Loading filtered datasets...\")\n",
    "filtered_book_crossing = pd.read_csv(book_crossing_path)\n",
    "\n",
    "# Display dataset info and sample rows\n",
    "print(\"\\nFiltered Book-Crossing Dataset Info:\")\n",
    "print(filtered_book_crossing.info())\n",
    "print(\"Sample Rows:\")\n",
    "print(filtered_book_crossing.head())\n",
    "\n"
   ]
  },
  {
   "cell_type": "markdown",
   "id": "0558f74b-2d73-441d-af63-dc0ac9acd151",
   "metadata": {},
   "source": [
    "# Part 4: Download Dataset for Gender Analysis\n"
   ]
  },
  {
   "cell_type": "markdown",
   "id": "14e72e38-2911-4661-a36f-84567bc044fe",
   "metadata": {},
   "source": [
    "#### - This part involves downloading the Gender-to-Name dataset.\n",
    "#### - This dataset will help map author names to genders for gender analysis.\n"
   ]
  },
  {
   "cell_type": "code",
   "execution_count": 261,
   "id": "f746803c-1710-4536-8380-5199223644a2",
   "metadata": {},
   "outputs": [
    {
     "name": "stdout",
     "output_type": "stream",
     "text": [
      "Path to dataset files: C:\\Users\\User\\.cache\\kagglehub\\datasets\\gracehephzibahm\\gender-by-name\\versions\\1\n"
     ]
    },
    {
     "data": {
      "text/plain": [
       "(      Name Gender    Count  Probability\n",
       " 0    James      M  5304407     0.014517\n",
       " 1     John      M  5260831     0.014398\n",
       " 2   Robert      M  4970386     0.013603\n",
       " 3  Michael      M  4579950     0.012534\n",
       " 4  William      M  4226608     0.011567,\n",
       " Index(['Name', 'Gender', 'Count', 'Probability'], dtype='object'))"
      ]
     },
     "execution_count": 261,
     "metadata": {},
     "output_type": "execute_result"
    }
   ],
   "source": [
    "import kagglehub\n",
    "\n",
    "# Download latest version\n",
    "path = kagglehub.dataset_download(\"gracehephzibahm/gender-by-name\")\n",
    "\n",
    "print(\"Path to dataset files:\", path)\n",
    "\n",
    "# Load the dataset to define gender_data\n",
    "Gender_to_Name_Path = \"data.csv\"  \n",
    "gender_data = pd.read_csv(Gender_to_Name_Path)\n",
    "\n",
    "# Verify the structure again\n",
    "gender_data.head(), gender_data.columns\n"
   ]
  },
  {
   "cell_type": "markdown",
   "id": "36e13306-a334-4291-a241-a2c1ed69402c",
   "metadata": {},
   "source": [
    "\n",
    "# Part 5: Gender Analysis"
   ]
  },
  {
   "cell_type": "markdown",
   "id": "59d5c759-45b1-427c-90fd-b5c282cf118c",
   "metadata": {},
   "source": [
    "#### - This part performs gender analysis on the Book-Crossing dataset.\n",
    "#### - The goal is to map the authors' first names to genders using the Gender-to-Name dataset.\n",
    "#### - We also calculate and display the gender distribution of authors in the Book-Crossing dataset.\n"
   ]
  },
  {
   "cell_type": "code",
   "execution_count": 264,
   "id": "4b1d58a7-e080-4746-a3f8-1842af65cf50",
   "metadata": {},
   "outputs": [
    {
     "name": "stdout",
     "output_type": "stream",
     "text": [
      "\n",
      "Book-Crossing Dataset Gender Distribution:\n",
      "gender\n",
      "M          48077\n",
      "F          44802\n",
      "Unknown     2811\n",
      "Name: count, dtype: int64\n",
      "\n",
      "Book-Crossing Dataset Gender Percentages:\n",
      "gender\n",
      "M          50.24\n",
      "F          46.82\n",
      "Unknown     2.94\n",
      "Name: count, dtype: float64\n"
     ]
    }
   ],
   "source": [
    "\n",
    "# Create a gender dictionary from the gender_data dataset\n",
    "gender_dict = {name.lower(): gender for name, gender in zip(gender_data['Name'], gender_data['Gender'])}\n",
    "\n",
    "# Function to map genders to authors\n",
    "def map_gender(authors_list, gender_dict):\n",
    "    \"\"\"\n",
    "    Map the gender of authors based on the Gender-to-Name dataset.\n",
    "    \"\"\"\n",
    "    genders = []\n",
    "    for author in authors_list:\n",
    "        # Ensure the author is a valid string and handle NaN values\n",
    "        if isinstance(author, str):\n",
    "            # Get the first name from author (handling both single and multiple authors)\n",
    "            first_name = author.split()[0].strip(\"['\\\"]\").lower()\n",
    "            gender = gender_dict.get(first_name, 'Unknown')  # Default to 'Unknown' if name not found\n",
    "        else:\n",
    "            gender = 'Unknown'  # If the value is not a string, assign 'Unknown'\n",
    "        genders.append(gender)\n",
    "    return genders\n",
    "\n",
    "# Map genders to authors in the Book-Crossing dataset\n",
    "filtered_book_crossing['gender'] = map_gender(filtered_book_crossing['Author'], gender_dict)\n",
    "\n",
    "# Gender distribution analysis for Book-Crossing dataset\n",
    "book_crossing_gender_distribution = filtered_book_crossing['gender'].value_counts()\n",
    "book_crossing_total = book_crossing_gender_distribution.sum()\n",
    "book_crossing_gender_percentages = (book_crossing_gender_distribution / book_crossing_total * 100).round(2)\n",
    "\n",
    "print(\"\\nBook-Crossing Dataset Gender Distribution:\")\n",
    "print(book_crossing_gender_distribution)\n",
    "print(\"\\nBook-Crossing Dataset Gender Percentages:\")\n",
    "print(book_crossing_gender_percentages)\n"
   ]
  },
  {
   "cell_type": "markdown",
   "id": "e82c8cc6-d488-40fa-a8c1-c7a538c817a5",
   "metadata": {},
   "source": [
    "# Part 6: Debiasing the Datasets"
   ]
  },
  {
   "cell_type": "markdown",
   "id": "8fce5304-9a6e-4c07-8672-9494bcf6d2cb",
   "metadata": {},
   "source": [
    "#### - This part adjusts the ratings to debias them based on gender.\n",
    "#### - Gender-based biases in user ratings are removed by normalizing ratings based on the gender average.\n"
   ]
  },
  {
   "cell_type": "code",
   "execution_count": 267,
   "id": "cdb6aa25-30f9-47f0-a06c-873d7ea9e46b",
   "metadata": {},
   "outputs": [
    {
     "name": "stdout",
     "output_type": "stream",
     "text": [
      "                                               Title  Rating gender  \\\n",
      "0  Politically Correct Bedtime Stories: Modern Ta...      10      F   \n",
      "1                           A Tree Grows in Brooklyn       0      M   \n",
      "2                      The Poisonwood Bible: A Novel       0      M   \n",
      "3  The Unbearable Lightness of Being : A Novel (P...       0      F   \n",
      "4                                 Bel Canto: A Novel       0      M   \n",
      "\n",
      "   Rating_debias  \n",
      "0        8.06118  \n",
      "1       -1.98153  \n",
      "2       -1.98153  \n",
      "3       -1.93882  \n",
      "4       -1.98153  \n",
      "                                               Title  Rating gender  \\\n",
      "0  Politically Correct Bedtime Stories: Modern Ta...      10      F   \n",
      "1                           A Tree Grows in Brooklyn       0      M   \n",
      "2                      The Poisonwood Bible: A Novel       0      M   \n",
      "3  The Unbearable Lightness of Being : A Novel (P...       0      F   \n",
      "4                                 Bel Canto: A Novel       0      M   \n",
      "\n",
      "   Rating_debias  \n",
      "0        8.06118  \n",
      "1       -1.98153  \n",
      "2       -1.98153  \n",
      "3       -1.93882  \n",
      "4       -1.98153  \n"
     ]
    }
   ],
   "source": [
    "\n",
    "# Debiasing function\n",
    "def debias_ratings(df, rating_col, gender_col):\n",
    "    \"\"\"\n",
    "    Adjust ratings to debias based on gender.\n",
    "    - Removes gender-based biases in user ratings.\n",
    "    \"\"\"\n",
    "    # Calculate average ratings for each gender\n",
    "    gender_avg_ratings = df.groupby(gender_col)[rating_col].mean()\n",
    "\n",
    "    # Normalize ratings for each user based on their gender\n",
    "    def adjust_rating(row):\n",
    "        if row[gender_col] == 'M':\n",
    "            return row[rating_col] - gender_avg_ratings['M']\n",
    "        elif row[gender_col] == 'F':\n",
    "            return row[rating_col] - gender_avg_ratings['F']\n",
    "        else:\n",
    "            return row[rating_col]  # For Unknown gender, leave the rating unchanged\n",
    "\n",
    "    df[rating_col + '_debias'] = df.apply(adjust_rating, axis=1)\n",
    "    return df\n",
    "\n",
    "# Apply debiasing to the Book-Crossing dataset\n",
    "book_crossing_debiased = debias_ratings(filtered_book_crossing, 'Rating', 'gender')\n",
    "\n",
    "# Display debiased data for Book-Crossing\n",
    "print(book_crossing_debiased[['Title', 'Rating', 'gender', 'Rating_debias']].head())\n",
    "\n",
    "# Step 4: For Book-Crossing, continue debiasing as usual\n",
    "book_crossing_debiased = debias_ratings(book_crossing_debiased, 'Rating', 'gender')\n",
    "\n",
    "# Step 5: Display debiased data for Book-Crossing\n",
    "print(book_crossing_debiased[['Title', 'Rating', 'gender', 'Rating_debias']].head())\n"
   ]
  },
  {
   "cell_type": "markdown",
   "id": "87b6dcf0-5370-42dc-9ae6-0e53547a7197",
   "metadata": {},
   "source": [
    "# Log-Bias Adjustment for Ratings and Visualization"
   ]
  },
  {
   "cell_type": "markdown",
   "id": "30ba4618-2386-42ff-83ea-1e18464f0ac0",
   "metadata": {},
   "source": [
    "#### In this section, we first define a function to apply a log-bias transformation to the ratings data. \n",
    "#### The log transformation helps in reducing the impact of extreme ratings and normalizes the data.\n",
    "#### Then, we apply this log-bias adjustment to both the Amazon and Book-Crossing datasets.\n",
    "#### Finally, we visualize the distribution of the ratings before and after the debiasing process using histograms."
   ]
  },
  {
   "cell_type": "code",
   "execution_count": 270,
   "id": "e33ede48-1e29-437f-a86f-022e71a9d259",
   "metadata": {},
   "outputs": [
    {
     "name": "stderr",
     "output_type": "stream",
     "text": [
      "C:\\Users\\User\\anaconda3\\Lib\\site-packages\\pandas\\core\\arraylike.py:399: RuntimeWarning: invalid value encountered in log\n",
      "  result = getattr(ufunc, method)(*inputs, **kwargs)\n"
     ]
    },
    {
     "data": {
      "image/png": "[encoded data removed]",
      "text/plain": [
       "<Figure size 1000x600 with 1 Axes>"
      ]
     },
     "metadata": {},
     "output_type": "display_data"
    }
   ],
   "source": [
    "import numpy as np\n",
    "import matplotlib.pyplot as plt\n",
    "\n",
    "def log_bias_adjustment(df, rating_col):\n",
    "    df['log_bias'] = np.log(1 + df[rating_col])\n",
    "    return df\n",
    "\n",
    "# Apply log-bias transformation\n",
    "book_crossing_debiased = log_bias_adjustment(book_crossing_debiased, 'Rating_debias')\n",
    "\n",
    "# Visualize the distribution before and after debiasing\n",
    "plt.figure(figsize=(10,6))\n",
    "\n",
    "# Plot before debiasing (assuming original ratings are in 'Rating_debias' column)\n",
    "plt.hist(book_crossing_debiased['Rating_debias'], bins=50, alpha=0.5, label='Before Debiasing', color='b')\n",
    "\n",
    "# Plot after debiasing (log-transformed ratings)\n",
    "plt.hist(book_crossing_debiased['log_bias'], bins=50, alpha=0.5, label='After Debiasing', color='r')\n",
    "\n",
    "plt.legend(loc='upper right')\n",
    "plt.title(\"Distribution of Ratings Before and After Debiasing\")\n",
    "plt.xlabel(\"Rating (Before) / Log-Bias (After)\")\n",
    "plt.ylabel(\"Frequency\")\n",
    "plt.show()\n"
   ]
  },
  {
   "cell_type": "markdown",
   "id": "976f4b78-a3b9-4cc2-9035-b4328b6adc85",
   "metadata": {},
   "source": [
    "# Installing and Importing Libraries for Collaborative Filtering"
   ]
  },
  {
   "cell_type": "markdown",
   "id": "b678e9e7-8360-4d13-9358-6ebefce925ba",
   "metadata": {},
   "source": [
    "#### In this section, we install and import the scikit-surprise library, which provides a suite of tools for building collaborative filtering recommendation systems.\n",
    "#### We import models like SVD, NMF, and KNNBasic, as well as the necessary functions for dataset handling and performance evaluation (like RMSE)."
   ]
  },
  {
   "cell_type": "code",
   "execution_count": 273,
   "id": "d1c2a1c4-687b-44b7-b757-d7127206e6df",
   "metadata": {},
   "outputs": [
    {
     "name": "stdout",
     "output_type": "stream",
     "text": [
      "Requirement already satisfied: scikit-surprise in c:\\users\\user\\anaconda3\\lib\\site-packages (1.1.4)\n",
      "Requirement already satisfied: joblib>=1.2.0 in c:\\users\\user\\anaconda3\\lib\\site-packages (from scikit-surprise) (1.4.2)\n",
      "Requirement already satisfied: numpy>=1.19.5 in c:\\users\\user\\anaconda3\\lib\\site-packages (from scikit-surprise) (1.26.4)\n",
      "Requirement already satisfied: scipy>=1.6.0 in c:\\users\\user\\anaconda3\\lib\\site-packages (from scikit-surprise) (1.13.1)\n"
     ]
    }
   ],
   "source": [
    "# Install scikit-surprise\n",
    "!pip install scikit-surprise\n",
    "\n",
    "from surprise import SVD, NMF, KNNBasic\n",
    "from surprise import Dataset, Reader\n",
    "from surprise.model_selection import train_test_split\n",
    "from surprise import accuracy"
   ]
  },
  {
   "cell_type": "markdown",
   "id": "ce7e2253-66e6-4e47-a75c-e67928f417c9",
   "metadata": {},
   "source": [
    "# Preparing the Dataset for Surprise Library"
   ]
  },
  {
   "cell_type": "markdown",
   "id": "988b989d-6d5e-448b-892e-a3c01d53c8ca",
   "metadata": {},
   "source": [
    "#### Here, we prepare the data for the Surprise library by defining the rating scale (0-10) and converting the dataset into a format that Surprise understands.\n",
    "#### We split the dataset into training and testing sets, using an 80%-20% split to ensure that we can evaluate the model on unseen data."
   ]
  },
  {
   "cell_type": "code",
   "execution_count": 276,
   "id": "7878baba-2ea4-47ff-8604-fe597617857d",
   "metadata": {},
   "outputs": [],
   "source": [
    "# Prepare the dataset for Surprise\n",
    "reader = Reader(rating_scale=(0, 10))  # Ratings are from 0 to 10\n",
    "data = Dataset.load_from_df(filtered_book_crossing[['User-ID', 'ISBN', 'Rating']], reader)\n",
    "\n",
    "# Split data into training and testing sets (80%-20%)\n",
    "trainset, testset = train_test_split(data, test_size=0.2)\n"
   ]
  },
  {
   "cell_type": "markdown",
   "id": "3421d4c5-e76e-46e1-8d66-7e574baa3c0d",
   "metadata": {},
   "source": [
    "# Training KNN Models for Collaborative Filtering"
   ]
  },
  {
   "cell_type": "markdown",
   "id": "17f7de64-b203-49b5-b09c-b247050bd1c6",
   "metadata": {},
   "source": [
    "#### This section involves training two types of K-Nearest Neighbors (KNN) models: User-based KNN and Item-based KNN.\n",
    "##### - User-based KNN recommends items based on similar users’ preferences.\n",
    "##### - Item-based KNN recommends items based on similarity between items.\n",
    "#### Both models are trained on the training set and then evaluated using the RMSE metric.\n"
   ]
  },
  {
   "cell_type": "code",
   "execution_count": 279,
   "id": "72d9c1f3-d509-46cb-82ae-84f204857346",
   "metadata": {},
   "outputs": [
    {
     "name": "stdout",
     "output_type": "stream",
     "text": [
      "\n",
      "Training UserKNN...\n",
      "Computing the msd similarity matrix...\n",
      "Done computing similarity matrix.\n",
      "RMSE: 3.5311\n",
      "\n",
      "Training ItemKNN...\n",
      "Computing the msd similarity matrix...\n",
      "Done computing similarity matrix.\n",
      "RMSE: 3.2992\n"
     ]
    }
   ],
   "source": [
    "# 1. KNN Algorithms\n",
    "# User-based collaborative filtering using KNN\n",
    "print(\"\\nTraining UserKNN...\")\n",
    "user_knn = KNNBasic(sim_options={'user_based': True})\n",
    "user_knn.fit(trainset)\n",
    "user_knn_preds = user_knn.test(testset)\n",
    "user_knn_rmse = accuracy.rmse(user_knn_preds)\n",
    "\n",
    "# Item-based collaborative filtering using KNN\n",
    "print(\"\\nTraining ItemKNN...\")\n",
    "item_knn = KNNBasic(sim_options={'user_based': False})\n",
    "item_knn.fit(trainset)\n",
    "item_knn_preds = item_knn.test(testset)\n",
    "item_knn_rmse = accuracy.rmse(item_knn_preds)\n"
   ]
  },
  {
   "cell_type": "markdown",
   "id": "f55c5819-8156-479c-8952-ce1d020fe520",
   "metadata": {},
   "source": [
    "# Training Matrix Factorization Models (SVD and NMF)"
   ]
  },
  {
   "cell_type": "markdown",
   "id": "6fd576bb-c3f5-4fb7-9330-af52429016b8",
   "metadata": {},
   "source": [
    "#### In this section, we train two matrix factorization models: SVD (Singular Value Decomposition) and NMF (Non-negative Matrix Factorization).\n",
    "#### SVD is a popular method in collaborative filtering, using latent factors to model the user-item interaction.\n",
    "#### NMF is an alternative factorization technique that requires all data to be non-negative, making it useful in some recommendation tasks.\n",
    "#### Both models are trained on the training set, evaluated on the test set, and their performance is measured using RMSE."
   ]
  },
  {
   "cell_type": "code",
   "execution_count": 282,
   "id": "ee3bce49-ccb7-4f61-b6bb-bf972f995d06",
   "metadata": {},
   "outputs": [
    {
     "name": "stdout",
     "output_type": "stream",
     "text": [
      "\n",
      "Training SVD...\n",
      "RMSE: 3.3950\n",
      "\n",
      "Training NMF (for ALS alternative)...\n",
      "RMSE: 3.6825\n"
     ]
    }
   ],
   "source": [
    "# 2. Matrix Factorization Algorithms\n",
    "# Singular Value Decomposition (SVD)\n",
    "print(\"\\nTraining SVD...\")\n",
    "svd = SVD()\n",
    "svd.fit(trainset)\n",
    "svd_preds = svd.test(testset)\n",
    "svd_rmse = accuracy.rmse(svd_preds)\n",
    "\n",
    "# Alternating Least Squares (ALS) Using NMF as an Alternative\n",
    "print(\"\\nTraining NMF (for ALS alternative)...\")\n",
    "nmf = NMF()\n",
    "nmf.fit(trainset)\n",
    "nmf_preds = nmf.test(testset)\n",
    "nmf_rmse = accuracy.rmse(nmf_preds)\n"
   ]
  },
  {
   "cell_type": "markdown",
   "id": "3213102f-01e5-4419-81fe-ea5f56e2e2b2",
   "metadata": {},
   "source": [
    "# Evaluating the Models Using RMSE"
   ]
  },
  {
   "cell_type": "markdown",
   "id": "0e31cc37-8efa-403a-8bc1-078547114dcf",
   "metadata": {},
   "source": [
    "#### The performance of each model is evaluated using the Root Mean Squared Error (RMSE), which provides a measure of how well the model's predictions match the actual ratings.\n",
    "#### A lower RMSE indicates a better performing model, so we compare the results from the KNN-based models and matrix factorization models."
   ]
  },
  {
   "cell_type": "code",
   "execution_count": 285,
   "id": "a4fcec90-e3f1-44bd-9345-7def140dda35",
   "metadata": {},
   "outputs": [
    {
     "name": "stdout",
     "output_type": "stream",
     "text": [
      "\n",
      "RMSE Results:\n",
      "UserKNN RMSE: 3.531133247368096\n",
      "ItemKNN RMSE: 3.2991966375199535\n",
      "SVD RMSE: 3.395048218105989\n",
      "NMF RMSE: 3.6825304298247006\n"
     ]
    }
   ],
   "source": [
    "# Print RMSE values for evaluation\n",
    "print(\"\\nRMSE Results:\")\n",
    "print(f\"UserKNN RMSE: {user_knn_rmse}\")\n",
    "print(f\"ItemKNN RMSE: {item_knn_rmse}\")\n",
    "print(f\"SVD RMSE: {svd_rmse}\")\n",
    "print(f\"NMF RMSE: {nmf_rmse}\")\n"
   ]
  },
  {
   "cell_type": "markdown",
   "id": "d25e3055-714d-4a7f-8a63-d2b854db1b50",
   "metadata": {},
   "source": [
    "# Calculating Log-Bias for Users"
   ]
  },
  {
   "cell_type": "markdown",
   "id": "9964a4d2-2653-4e44-986b-e1be346e9e5c",
   "metadata": {},
   "source": [
    "#### The function calculate_log_bias calculates a log-bias for each user, where the log-bias is computed as the mean of the logarithm of non-zero ratings for each user.\n",
    "#### Grouping by User-ID: The ratings are grouped by User-ID so that we can calculate the log-bias for each user.\n",
    "#### Handling Zero Ratings: It skips zero ratings during the log-bias calculation to ensure they don’t skew the result. If all ratings for a user are zero, a bias of 0 is assigned to that user.\n",
    "#### Log Calculation: It calculates the natural logarithm (np.log) of the non-zero ratings for each user, and the average of these values is returned as the user's log-bias."
   ]
  },
  {
   "cell_type": "code",
   "execution_count": 288,
   "id": "dfc20a4d-0278-4ac7-ab5a-cf85171d7864",
   "metadata": {},
   "outputs": [],
   "source": [
    "import numpy as np\n",
    "\n",
    "def calculate_log_bias(filtered_data):\n",
    "    \"\"\"\n",
    "    Calculate the log-bias (θ_u) for each user, skipping zero ratings.\n",
    "    \"\"\"\n",
    "    log_biases = {}\n",
    "    \n",
    "    # Group data by User-ID and calculate log-bias for each user\n",
    "    for user_id, group in filtered_data.groupby('User-ID'):\n",
    "        ratings = group['Rating'].values\n",
    "        \n",
    "        # Only include non-zero ratings in the log-bias calculation\n",
    "        non_zero_ratings = ratings[ratings > 0]\n",
    "        \n",
    "        # If the user has rated at least one non-zero item, calculate the log-bias\n",
    "        if len(non_zero_ratings) > 0:\n",
    "            log_bias = np.mean(np.log(non_zero_ratings))  # Calculate log of non-zero ratings\n",
    "        else:\n",
    "            log_bias = 0  # If all ratings are zero, set bias to 0 (or handle as you see fit)\n",
    "        \n",
    "        log_biases[user_id] = log_bias\n",
    "    \n",
    "    return log_biases\n",
    "\n",
    "# Calculate log-biases for each user, skipping zero ratings\n",
    "log_biases = calculate_log_bias(filtered_book_crossing)\n"
   ]
  },
  {
   "cell_type": "markdown",
   "id": "5f570d13-375d-4196-b8b4-68e268fc47e9",
   "metadata": {},
   "source": [
    "# Debiasing the Ratings Using Log-Bias"
   ]
  },
  {
   "cell_type": "markdown",
   "id": "5bf3c80b-8a32-46d1-a327-c0631dbda4d3",
   "metadata": {},
   "source": [
    "#### The function calculate_debiased_ratings adjusts the ratings by subtracting each user's log-bias from their ratings. The goal is to eliminate biases in the ratings data that may have been introduced by individual users.\n",
    "#### Log-Bias Adjustment: The function loops through each row in the dataset and retrieves the corresponding user’s log-bias. If the log-bias for a user is not available, it defaults to 0.\n",
    "#### Debiased Rating: The debiased rating is calculated by subtracting the log-bias from the original rating, effectively removing any user-specific bias.\n",
    "#### Returning the Adjusted Data: The debiased ratings are added to the dataset as a new column (Debiased_Rating)."
   ]
  },
  {
   "cell_type": "code",
   "execution_count": 291,
   "id": "3270ad8d-030f-44ef-8870-2171f6ed6519",
   "metadata": {},
   "outputs": [],
   "source": [
    "def calculate_debiased_ratings(filtered_data, log_biases):\n",
    "    \"\"\"\n",
    "    Adjust the ratings using the log-bias to create debiased ratings.\n",
    "    \"\"\"\n",
    "    debiased_ratings = []\n",
    "    \n",
    "    # Loop over each row to calculate the debiased rating\n",
    "    for _, row in filtered_data.iterrows():\n",
    "        user_id = row['User-ID']\n",
    "        rating = row['Rating']\n",
    "        \n",
    "        # Get the log-bias for the user\n",
    "        log_bias = log_biases.get(user_id, 0)  # Default to 0 if no log-bias exists\n",
    "        \n",
    "        # Calculate the debiased rating\n",
    "        debiased_rating = rating - log_bias\n",
    "        debiased_ratings.append(debiased_rating)\n",
    "    \n",
    "    # Add the debiased ratings as a new column\n",
    "    filtered_data['Debiased_Rating'] = debiased_ratings\n",
    "    return filtered_data\n",
    "\n",
    "# Apply debiasing to the filtered Book-Crossing dataset\n",
    "filtered_book_crossing = calculate_debiased_ratings(filtered_book_crossing, log_biases)\n"
   ]
  },
  {
   "cell_type": "markdown",
   "id": "98be0e9f-bcbe-4df7-93e1-1a57b322e57f",
   "metadata": {},
   "source": [
    "# Reintroducing User-Specific Preferences: Preference Correction"
   ]
  },
  {
   "cell_type": "markdown",
   "id": "60f29a4a-2980-4b4c-995f-f15a3468098a",
   "metadata": {},
   "source": [
    "#### The function apply_preference_correction reintroduces a user-specific preference to the debiased ratings.\n",
    "#### User-Specific Preference (alpha_u): A fixed value alpha_u is added to each debiased rating, allowing the model to adjust the ratings based on a user-specific parameter.\n",
    "#### Adjustment Process: The function loops over each row in the dataset, retrieves the debiased rating, and adds the value of alpha_u to it, which represents the user's preference.\n",
    "#### Returning the Adjusted Data: The adjusted ratings are stored in a new column (Adjusted_Rating), which is then returned as part of the dataset."
   ]
  },
  {
   "cell_type": "code",
   "execution_count": 294,
   "id": "b3102c0d-fa42-4c0d-853d-00ffacdc8e7c",
   "metadata": {},
   "outputs": [],
   "source": [
    "def apply_preference_correction(filtered_data, alpha_u=0.5):\n",
    "    \"\"\"\n",
    "    Adjust the debiased ratings by reintroducing the user-specific preference.\n",
    "    \"\"\"\n",
    "    adjusted_ratings = []\n",
    "    \n",
    "    for _, row in filtered_data.iterrows():\n",
    "        debiased_rating = row['Debiased_Rating']\n",
    "        \n",
    "        # Apply user-specific preference parameter (alpha_u)\n",
    "        adjusted_rating = debiased_rating + alpha_u\n",
    "        adjusted_ratings.append(adjusted_rating)\n",
    "    \n",
    "    # Add the adjusted ratings as a new column\n",
    "    filtered_data['Adjusted_Rating'] = adjusted_ratings\n",
    "    return filtered_data\n",
    "\n",
    "# Example: Apply a fixed preference correction for each user\n",
    "alpha_u = 0.5  # Example value for user-specific preference (this can vary by user)\n",
    "filtered_book_crossing = apply_preference_correction(filtered_book_crossing, alpha_u)\n"
   ]
  },
  {
   "cell_type": "markdown",
   "id": "cf567c77-fa68-4f67-a82c-53630641ba58",
   "metadata": {},
   "source": [
    "# Training an SVD Model Using Debiased Ratings"
   ]
  },
  {
   "cell_type": "markdown",
   "id": "8a71e0d7-88d4-4514-8611-96fb6a89f7cc",
   "metadata": {},
   "source": [
    "### Dataset Preparation:\n",
    "#### The Dataset and Reader from the Surprise library are used to prepare the dataset, which consists of user-item ratings that have been adjusted by reintroducing the user-specific preferences.\n",
    "#### We load the filtered_book_crossing data with the adjusted ratings (Adjusted_Rating) into the Dataset format suitable for collaborative filtering algorithms.\n",
    "### Data Splitting:\n",
    "#### The data is split into training and testing sets using train_test_split with an 80%-20% split, ensuring that the model is trained on 80% of the data and tested on the remaining 20%.\n",
    "### SVD Model Training:\n",
    "#### The SVD (Singular Value Decomposition) algorithm is used for matrix factorization. The model is trained on the training set (trainset_debiased) and evaluated on the test set (testset_debiased).\n",
    "### RMSE Evaluation:\n",
    "#### The Root Mean Squared Error (RMSE) is computed on the predictions made by the trained SVD model to evaluate its performance in terms of how well it predicts ratings."
   ]
  },
  {
   "cell_type": "code",
   "execution_count": 297,
   "id": "de42fdc5-837f-416c-80a9-cbf8291810fd",
   "metadata": {},
   "outputs": [
    {
     "name": "stdout",
     "output_type": "stream",
     "text": [
      "RMSE: 3.3792\n",
      "SVD Debiased RMSE: 3.3791703091257865\n"
     ]
    }
   ],
   "source": [
    "from surprise import Dataset, Reader\n",
    "from surprise.model_selection import train_test_split\n",
    "from surprise import SVD, accuracy\n",
    "\n",
    "# Prepare the dataset for Surprise using the adjusted ratings\n",
    "reader = Reader(rating_scale=(0, 10))\n",
    "data_debiased = Dataset.load_from_df(filtered_book_crossing[['User-ID', 'ISBN', 'Adjusted_Rating']], reader)\n",
    "\n",
    "# Split data into training and testing sets (80%-20%)\n",
    "trainset_debiased, testset_debiased = train_test_split(data_debiased, test_size=0.2)\n",
    "\n",
    "# Train an SVD model using the debiased ratings\n",
    "svd_debiased = SVD()\n",
    "svd_debiased.fit(trainset_debiased)\n",
    "svd_debiased_preds = svd_debiased.test(testset_debiased)\n",
    "\n",
    "# Evaluate RMSE for the debiased model\n",
    "svd_debiased_rmse = accuracy.rmse(svd_debiased_preds)\n",
    "\n",
    "print(f\"SVD Debiased RMSE: {svd_debiased_rmse}\")\n"
   ]
  },
  {
   "cell_type": "markdown",
   "id": "4c72bc93-cbd4-4920-8a8b-1e64b293d794",
   "metadata": {},
   "source": [
    "# Evaluating SVD Model and Generating Top-N Recommendations"
   ]
  },
  {
   "cell_type": "markdown",
   "id": "d702d65d-6825-4523-9d9b-9432ecbdc7b5",
   "metadata": {},
   "source": [
    "#### This section focuses on two main tasks:\n",
    "#### Training and evaluating an SVD model: The first part uses the Surprise library to evaluate a Singular Value Decomposition (SVD) model on the biased ratings.\n",
    "#### Generating Top-N Recommendations: The second part sorts the dataset based on the adjusted ratings (after debiasing) and generates top-N recommendations for each user.\n"
   ]
  },
  {
   "cell_type": "code",
   "execution_count": 300,
   "id": "e16be551-ce48-4f24-977b-cb793ef13510",
   "metadata": {},
   "outputs": [
    {
     "name": "stdout",
     "output_type": "stream",
     "text": [
      "RMSE: 3.4106\n",
      "SVD Biased RMSE: 3.4106161297882456\n",
      "[277427 278418    243    254    882   2276   2766   3363   4017   5903]\n",
      "       User-ID        ISBN                                              Title  \\\n",
      "63432   186570  0671789422                       Possessing the Secret of Joy   \n",
      "61737   180957  1400032717  The Curious Incident of the Dog in the Night-T...   \n",
      "73219   217318  0671042262                         The Blue Nowhere : A Novel   \n",
      "73186   217318  0446611611                                      City of Bones   \n",
      "73180   217318  0446607274    Angels Flight (Detective Harry Bosch Mysteries)   \n",
      "73152   217318  0312955006          The Concrete Blonde (A Harry Bosch Novel)   \n",
      "43049   126736  0553295772                                   Extreme Measures   \n",
      "58534   170861  0385504209                                  The Da Vinci Code   \n",
      "74731   223087  1400031346                 The No. 1 Ladies' Detective Agency   \n",
      "46869   135458  0553562738                                      Doomsday Book   \n",
      "46842   135458  0440217563                                            Voyager   \n",
      "46872   135458  0553573403  A Game of Thrones (A Song of Ice and Fire, Boo...   \n",
      "46844   135458  044022425X                                    Drums of Autumn   \n",
      "46838   135458  0440212561                                          Outlander   \n",
      "46841   135458  0440215625                                 Dragonfly in Amber   \n",
      "85719   245827  0451183665                                     A Case of Need   \n",
      "85659   245827  0399141146                          The Hundred Secret Senses   \n",
      "85696   245827  0440998050                                  A Wrinkle in Time   \n",
      "93944   270605  0446672211  Where the Heart Is (Oprah's Book Club (Paperba...   \n",
      "93949   270605  0452269571                            Bastard Out of Carolina   \n",
      "\n",
      "       Adjusted_Rating  \n",
      "63432         9.027127  \n",
      "61737         8.867333  \n",
      "73219         8.830741  \n",
      "73186         8.830741  \n",
      "73180         8.830741  \n",
      "73152         8.830741  \n",
      "43049         8.829592  \n",
      "58534         8.820171  \n",
      "74731         8.806216  \n",
      "46869         8.801938  \n",
      "46842         8.801938  \n",
      "46872         8.801938  \n",
      "46844         8.801938  \n",
      "46838         8.801938  \n",
      "46841         8.801938  \n",
      "85719         8.796138  \n",
      "85659         8.796138  \n",
      "85696         8.796138  \n",
      "93944         8.789161  \n",
      "93949         8.789161  \n"
     ]
    }
   ],
   "source": [
    "from surprise import Dataset, Reader\n",
    "from surprise.model_selection import train_test_split\n",
    "from surprise import SVD, accuracy\n",
    "\n",
    "# Prepare the dataset for Surprise using the original ratings (biased)\n",
    "data_biased = Dataset.load_from_df(filtered_book_crossing[['User-ID', 'ISBN', 'Rating']], reader)\n",
    "\n",
    "# Split data into training and testing sets (80%-20%)\n",
    "trainset_biased, testset_biased = train_test_split(data_biased, test_size=0.2)\n",
    "\n",
    "# Train an SVD model using the biased ratings\n",
    "svd_biased = SVD()\n",
    "svd_biased.fit(trainset_biased)\n",
    "svd_biased_preds = svd_biased.test(testset_biased)\n",
    "\n",
    "# Evaluate RMSE for the biased model\n",
    "svd_biased_rmse = accuracy.rmse(svd_biased_preds)\n",
    "\n",
    "print(f\"SVD Biased RMSE: {svd_biased_rmse}\")\n",
    "\n",
    "# List all unique User-IDs in the filtered dataset\n",
    "available_users = filtered_book_crossing['User-ID'].unique()\n",
    "\n",
    "# Print the first 10 available User-IDs\n",
    "print(available_users[:10])\n",
    "\n",
    "# Step 1: Sort the filtered dataset based on Adjusted_Rating (debized ratings)\n",
    "filtered_book_crossing_sorted = filtered_book_crossing.sort_values(by='Adjusted_Rating', ascending=False)\n",
    "\n",
    "# Step 2: Display the top-N recommendations for each user\n",
    "# You can select the top 10 recommendations for each user, for example:\n",
    "top_n_recommendations = filtered_book_crossing_sorted.groupby('User-ID').head(10)\n",
    "\n",
    "# Display the top-N recommendations for the first few users\n",
    "print(top_n_recommendations[['User-ID', 'ISBN', 'Title', 'Adjusted_Rating']].head(20))  # Top 20 rows for example\n"
   ]
  },
  {
   "cell_type": "markdown",
   "id": "769f0bb8-b11a-4629-8da3-e411058d7ede",
   "metadata": {},
   "source": [
    "# Calculating NDCG for Biased Recommendations"
   ]
  },
  {
   "cell_type": "markdown",
   "id": "33fdc183-baba-4833-8a98-8eab365ec599",
   "metadata": {},
   "source": [
    "#### The code below calculates the Normalized Discounted Cumulative Gain (NDCG) at k=10 for the recommendations based on the biased model."
   ]
  },
  {
   "cell_type": "code",
   "execution_count": 303,
   "id": "7af9a25d-4313-416b-8762-ea4322c16f60",
   "metadata": {},
   "outputs": [
    {
     "name": "stdout",
     "output_type": "stream",
     "text": [
      "NDCG for Biased Model: 0.9663760896637609\n"
     ]
    }
   ],
   "source": [
    "from sklearn.metrics import ndcg_score\n",
    "import numpy as np\n",
    "\n",
    "def calculate_ndcg_biased(predictions, k=10):\n",
    "    \"\"\"\n",
    "    Calculate the NDCG at k for the recommendations for the biased model.\n",
    "    \"\"\"\n",
    "    # Initialize lists for true relevance and predicted scores\n",
    "    y_true = []\n",
    "    y_score = []\n",
    "    \n",
    "    # Iterate over each user\n",
    "    for user_id in predictions['User-ID'].unique():\n",
    "        user_preds = predictions[predictions['User-ID'] == user_id].head(k)\n",
    "        \n",
    "        # Get the relevance (1 if Rating >= 8, else 0)\n",
    "        relevance = [1 if rating >= 8 else 0 for rating in user_preds['Rating']]\n",
    "        \n",
    "        # Get the predicted score (rating itself)\n",
    "        predicted_scores = user_preds['Rating'].values\n",
    "        \n",
    "        # Append the true relevance and predicted scores for this user\n",
    "        y_true.append(relevance)\n",
    "        y_score.append(predicted_scores)\n",
    "    \n",
    "    # Compute NDCG using sklearn's ndcg_score\n",
    "    return ndcg_score(y_true, y_score, k=k)\n",
    "\n",
    "# Calculate NDCG for the biased recommendations (using original ratings)\n",
    "ndcg_biased = calculate_ndcg_biased(filtered_book_crossing_sorted, k=10)\n",
    "print(f\"NDCG for Biased Model: {ndcg_biased}\")\n"
   ]
  },
  {
   "cell_type": "markdown",
   "id": "8a6effb5-5403-4723-9351-5a950ec45c16",
   "metadata": {},
   "source": [
    "# Calculating NDCG for the Debiased Model:"
   ]
  },
  {
   "cell_type": "markdown",
   "id": "f7efa025-2df2-4ca7-bcd5-91707588c779",
   "metadata": {},
   "source": [
    "#### This part of the code calculates the Normalized Discounted Cumulative Gain (NDCG) at k for the recommendations generated using the debiased ratings. NDCG is a metric used to measure the effectiveness of recommendation systems by considering how well the system ranks relevant items (based on the adjusted ratings).\n",
    "#### - True Relevance: For each user, if the Adjusted_Rating is greater than or equal to 8, the item is considered relevant (with a relevance of 1). Otherwise, it is considered irrelevant (with a relevance of 0).\n",
    "#### - Predicted Scores: The predicted scores for ranking are the Adjusted_Rating values for each item.\n",
    "#### The function iterates over each user in the dataset, computes the relevance and predicted score for the top-k items, and then calculates the NDCG score using sklearn's ndcg_score function. The NDCG score gives an indication of how well the system ranks the most relevant items for each user.\n",
    "#### The final NDCG score is printed for the Debiased Model, which reflects how effectively the system performs in ranking items with higher relevance according to the debiased ratings."
   ]
  },
  {
   "cell_type": "code",
   "execution_count": 306,
   "id": "aa2f7b52-5aca-448a-8d79-42c3b23edf1a",
   "metadata": {},
   "outputs": [
    {
     "name": "stdout",
     "output_type": "stream",
     "text": [
      "NDCG for Debiased Model: 0.800747198007472\n"
     ]
    }
   ],
   "source": [
    "from sklearn.metrics import ndcg_score\n",
    "import numpy as np\n",
    "\n",
    "def calculate_ndcg_debiased(predictions, k=10):\n",
    "    \"\"\"\n",
    "    Calculate the NDCG at k for the recommendations for the debiased model.\n",
    "    \"\"\"\n",
    "    y_true = []  # True relevance (1 for relevant, 0 for not relevant)\n",
    "    y_score = []  # Predicted relevance score (Adjusted_Rating)\n",
    "\n",
    "    # Iterate over each user in the dataset\n",
    "    for user_id in predictions['User-ID'].unique():\n",
    "        user_preds = predictions[predictions['User-ID'] == user_id].head(k)\n",
    "        \n",
    "        # Get the relevance (1 if Adjusted_Rating >= 8, else 0)\n",
    "        relevance = [1 if rating >= 8 else 0 for rating in user_preds['Adjusted_Rating']]\n",
    "        \n",
    "        # Get the predicted score (Adjusted_Rating itself)\n",
    "        predicted_scores = user_preds['Adjusted_Rating'].values\n",
    "        \n",
    "        # Append the true relevance and predicted scores for this user\n",
    "        y_true.append(relevance)\n",
    "        y_score.append(predicted_scores)\n",
    "    \n",
    "    # Compute NDCG using sklearn's ndcg_score function\n",
    "    return ndcg_score(y_true, y_score, k=k)\n",
    "\n",
    "# Calculate NDCG for the debiased recommendations (using Adjusted_Rating)\n",
    "ndcg_debiased = calculate_ndcg_debiased(filtered_book_crossing_sorted, k=10)\n",
    "\n",
    "# Print the NDCG score for the debiased model\n",
    "print(f\"NDCG for Debiased Model: {ndcg_debiased}\")\n"
   ]
  },
  {
   "cell_type": "markdown",
   "id": "819a7595-7847-414e-a017-a521d655520d",
   "metadata": {},
   "source": [
    "# Calculating Mean Reciprocal Rank (MRR) for the Biased Model:"
   ]
  },
  {
   "cell_type": "markdown",
   "id": "b6522d6e-aad8-468e-b112-73c574b7dad4",
   "metadata": {},
   "source": [
    "#### This part of the code calculates the Mean Reciprocal Rank (MRR) for the recommendations generated using the biased ratings (original ratings). MRR is a metric used to evaluate recommendation systems based on how quickly relevant items appear in the ranked list of recommendations.\n",
    "\n",
    "#### -  Reciprocal Rank: For each user, the reciprocal rank is computed as the inverse of the position of the first relevant item. If the first relevant item appears at rank r, the reciprocal rank is 1/r.\n",
    "#### - Relevance Criteria: An item is considered relevant if its Rating is greater than or equal to 8.\n",
    "#### The function iterates over each user, finds the first relevant item, computes its reciprocal rank, and accumulates the result. If no relevant item is found, the reciprocal rank is considered as 0 for that user.\n",
    "\n",
    "#### Finally, the Mean Reciprocal Rank (MRR) is calculated by averaging the reciprocal ranks across all users in the dataset. This gives an indication of how well the system ranks relevant items for users on average."
   ]
  },
  {
   "cell_type": "code",
   "execution_count": 309,
   "id": "180468b0-9015-4700-9db2-ff9a5d8198b7",
   "metadata": {},
   "outputs": [
    {
     "name": "stdout",
     "output_type": "stream",
     "text": [
      "MRR for Biased Model: 0.9663760896637609\n"
     ]
    }
   ],
   "source": [
    "def calculate_mrr_biased(predictions, k=10):\n",
    "    \"\"\"\n",
    "    Calculate Mean Reciprocal Rank (MRR) for the top-k recommendations for the biased model.\n",
    "    \"\"\"\n",
    "    mrr = 0.0\n",
    "    num_users = predictions['User-ID'].nunique()\n",
    "\n",
    "    # Iterate over each user in the dataset\n",
    "    for user_id in predictions['User-ID'].unique():\n",
    "        user_preds = predictions[predictions['User-ID'] == user_id].head(k)\n",
    "        \n",
    "        # Find the first relevant item (Rating >= 8)\n",
    "        relevant_items = user_preds[user_preds['Rating'] >= 8]\n",
    "        \n",
    "        if len(relevant_items) > 0:\n",
    "            # Reciprocal rank of the first relevant item\n",
    "            rank = 1 / (user_preds.index.get_loc(relevant_items.index[0]) + 1)\n",
    "            mrr += rank\n",
    "        else:\n",
    "            mrr += 0  # No relevant item found\n",
    "    \n",
    "    # Calculate MRR as the mean across all users\n",
    "    return mrr / num_users\n",
    "\n",
    "# Calculate MRR for the biased recommendations (using original ratings)\n",
    "mrr_biased = calculate_mrr_biased(filtered_book_crossing_sorted, k=10)\n",
    "print(f\"MRR for Biased Model: {mrr_biased}\")\n"
   ]
  },
  {
   "cell_type": "markdown",
   "id": "e068994e-9c52-49a5-999d-6da6898c22c4",
   "metadata": {},
   "source": [
    "# Calculating Mean Reciprocal Rank (MRR) for the Debiased Model:"
   ]
  },
  {
   "cell_type": "markdown",
   "id": "e2984d53-1673-4821-96a0-be7ddb8e01c0",
   "metadata": {},
   "source": [
    "#### This section of the code calculates the Mean Reciprocal Rank (MRR) for the top-k recommendations for the debiased model. MRR is an evaluation metric used to assess recommendation systems, based on the rank at which a relevant item is found in the recommendation list.\n",
    "\n",
    "#### Reciprocal Rank: The reciprocal rank is the inverse of the position of the first relevant item in the recommendation list. For example, if the first relevant item is ranked 1st, the reciprocal rank is 1. If it is ranked 2nd, the reciprocal rank is 1/2, and so on.\n",
    "#### Relevance Criteria: In this case, an item is considered relevant if its Adjusted_Rating is greater than or equal to 8.\n",
    "#### The function goes through each user’s recommendations, finds the first relevant item based on the adjusted ratings, calculates its reciprocal rank, and accumulates this value for all users. If no relevant item is found, the reciprocal rank for that user is considered 0.\n",
    "\n",
    "#### Finally, the Mean Reciprocal Rank (MRR) is calculated as the average of the reciprocal ranks across all users. A higher MRR indicates that relevant items tend to appear higher in the recommendation list."
   ]
  },
  {
   "cell_type": "code",
   "execution_count": 312,
   "id": "ee3dd25f-155f-4e6e-a7e4-d40e9f5ee4bd",
   "metadata": {},
   "outputs": [
    {
     "name": "stdout",
     "output_type": "stream",
     "text": [
      "MRR for Debiased Model: 0.800747198007472\n"
     ]
    }
   ],
   "source": [
    "def calculate_mrr_debiased(predictions, k=10):\n",
    "    \"\"\"\n",
    "    Calculate Mean Reciprocal Rank (MRR) for the top-k recommendations for the debiased model.\n",
    "    \"\"\"\n",
    "    mrr = 0.0\n",
    "    num_users = predictions['User-ID'].nunique()\n",
    "\n",
    "    # Iterate over each user in the dataset\n",
    "    for user_id in predictions['User-ID'].unique():\n",
    "        user_preds = predictions[predictions['User-ID'] == user_id].head(k)\n",
    "        \n",
    "        # Find the first relevant item (Adjusted_Rating >= 8)\n",
    "        relevant_items = user_preds[user_preds['Adjusted_Rating'] >= 8]\n",
    "        \n",
    "        if len(relevant_items) > 0:\n",
    "            # Reciprocal rank of the first relevant item\n",
    "            rank = 1 / (user_preds.index.get_loc(relevant_items.index[0]) + 1)\n",
    "            mrr += rank\n",
    "        else:\n",
    "            mrr += 0  # No relevant item found\n",
    "    \n",
    "    # Calculate MRR as the mean across all users\n",
    "    return mrr / num_users\n",
    "\n",
    "# Calculate MRR for the debiased recommendations (using Adjusted_Rating)\n",
    "mrr_debiased = calculate_mrr_debiased(filtered_book_crossing_sorted, k=10)\n",
    "print(f\"MRR for Debiased Model: {mrr_debiased}\")\n"
   ]
  }
 ],
 "metadata": {
  "kernelspec": {
   "display_name": "Python 3 (ipykernel)",
   "language": "python",
   "name": "python3"
  },
  "language_info": {
   "codemirror_mode": {
    "name": "ipython",
    "version": 3
   },
   "file_extension": ".py",
   "mimetype": "text/x-python",
   "name": "python",
   "nbconvert_exporter": "python",
   "pygments_lexer": "ipython3",
   "version": "3.12.4"
  }
 },
 "nbformat": 4,
 "nbformat_minor": 5
}
